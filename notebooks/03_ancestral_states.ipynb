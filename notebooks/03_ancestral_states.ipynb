{
 "cells": [
  {
   "cell_type": "code",
   "execution_count": 10,
   "id": "2c26a155",
   "metadata": {},
   "outputs": [],
   "source": [
    "#Need ancseq kernel\n",
    "\n",
    "from pathlib import Path\n",
    "\n",
    "#Define paths for current project\n",
    "# --- Centralized paths ---\n",
    "ROOT = Path(\"..\")\n",
    "DATA = ROOT / \"data\"\n",
    "LOGS = ROOT / \"logs\"\n",
    "SCRIPTS = ROOT / \"scripts\"\n",
    "RESULTS = ROOT / \"results\"\n",
    "ALIGN_DIR = RESULTS / \"align\"\n",
    "TREE_DIR = RESULTS / \"trees\"\n",
    "FIGURES = RESULTS / \"figures\"\n",
    "ANCESTORS = RESULTS / \"ancestors\""
   ]
  },
  {
   "cell_type": "markdown",
   "id": "0da8712b",
   "metadata": {},
   "source": [
    "**Note:**  \n",
    "For long-running jobs (like `ancseq`), do **not** run them in a Jupyter notebook if you are worried about losing your connection.  \n",
    "Instead, use a terminal multiplexer such as `tmux` or `screen` in a regular terminal:\n",
    "\n",
    "1. Open a terminal.\n",
    "2. Start a tmux session: `tmux`\n",
    "3. Activate your environment and run your command:\n",
    "   ```\n",
    "   conda activate ancseq\n",
    "   ancseq -s ../results/align/combined_plus_hasegawa24_ALN.fasta -m AA -o ../results/ancestors/cph24\n",
    "   ```\n",
    "4. Detach from tmux with `Ctrl+b` then `d`.\n",
    "\n",
    "This ensures your job continues running even if you disconnect."
   ]
  },
  {
   "cell_type": "code",
   "execution_count": 11,
   "id": "92a0b04b",
   "metadata": {},
   "outputs": [
    {
     "name": "stdout",
     "output_type": "stream",
     "text": [
      "Combined alignment and ancestor sequences written to ../data/final_with_ancestors.fasta\n",
      "Aligned -> ../results/align/final_with_ancestors_ALN.fasta\n"
     ]
    }
   ],
   "source": [
    "from Bio import SeqIO\n",
    "\n",
    "# Paths\n",
    "HITS = ALIGN_DIR / \"pumphits_ALN.fasta\"\n",
    "ANCESTOR_FASTA = ANCESTORS / \"cph24/30_result/ancestral_state_result.fasta\"\n",
    "FINAL = DATA / \"final_with_ancestors.fasta\"\n",
    "\n",
    "# Ancestor node names\n",
    "Ancestors = (\"Node36\", \"Node73\", \"Node37\", \"Node6\",\n",
    "             \"Node87\", \"Node4\", \"Node117\", \"Node38\",\n",
    "             \"Node40\", \"Node44\")\n",
    "\n",
    "# Read original alignment\n",
    "aln_records = list(SeqIO.parse(HITS, \"fasta\"))\n",
    "\n",
    "# Read ancestor sequences\n",
    "ancestor_records = [rec for rec in SeqIO.parse(ANCESTOR_FASTA, \"fasta\") if rec.id in Ancestors]\n",
    "\n",
    "# Concatenate and write to FINAL\n",
    "with open(FINAL, \"w\") as out_handle:\n",
    "    SeqIO.write(aln_records + ancestor_records, out_handle, \"fasta\")\n",
    "\n",
    "print(f\"Combined alignment and ancestor sequences written to {FINAL}\")\n",
    "\n",
    "# Align with MAFFT\n",
    "ALN_FASTA = ALIGN_DIR / \"final_with_ancestors_ALN.fasta\"\n",
    "!mafft --auto --thread -1 --quiet \"{FINAL}\" > \"{ALN_FASTA}\"\n",
    "print(\"Aligned ->\", ALN_FASTA)"
   ]
  }
 ],
 "metadata": {
  "kernelspec": {
   "display_name": "ancseq",
   "language": "python",
   "name": "python3"
  },
  "language_info": {
   "codemirror_mode": {
    "name": "ipython",
    "version": 3
   },
   "file_extension": ".py",
   "mimetype": "text/x-python",
   "name": "python",
   "nbconvert_exporter": "python",
   "pygments_lexer": "ipython3",
   "version": "3.13.5"
  }
 },
 "nbformat": 4,
 "nbformat_minor": 5
}
