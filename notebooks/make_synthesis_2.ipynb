{
 "cells": [
  {
   "cell_type": "code",
   "execution_count": 4,
   "id": "ca7cd71c",
   "metadata": {},
   "outputs": [],
   "source": [
    "from pathlib import Path\n",
    "from datetime import date\n",
    "\n",
    "# Project folders (assume you’re running the notebook from the repo root)\n",
    "ROOT = Path.cwd()\n",
    "DATA_DIR = ROOT / \"data\"\n",
    "RESULTS_DIR = ROOT / \"results\"\n",
    "ALIGN_DIR = RESULTS_DIR / \"align\"; ALIGN_DIR.mkdir(parents=True, exist_ok=True)\n",
    "TREE_DIR  = RESULTS_DIR / \"trees\"; TREE_DIR.mkdir(parents=True, exist_ok=True)\n",
    "\n",
    "# Input FASTA — EDIT THIS ONE LINE when you change datasets\n",
    "IN_FASTA = DATA_DIR / \"BAC88139.1_top150_uniref90.rename.culled_20250826.fasta\"\n",
    "\n",
    "# Names derived from the input (no more hardcoding)\n",
    "RUNID = str(date.today())                     # e.g., '2025-08-26'\n",
    "BASE = IN_FASTA.stem                          # e.g., '...culled_20250826'\n",
    "ALN_FASTA = ALIGN_DIR / f\"{BASE}_ALN.faa\"     # _ALN convention for aligned FASTA\n",
    "IQ_PREFIX = TREE_DIR / f\"{BASE}_ML_{RUNID}\"   # IQ-TREE prefix\n"
   ]
  }
 ],
 "metadata": {
  "kernelspec": {
   "display_name": "phylo",
   "language": "python",
   "name": "python3"
  },
  "language_info": {
   "codemirror_mode": {
    "name": "ipython",
    "version": 3
   },
   "file_extension": ".py",
   "mimetype": "text/x-python",
   "name": "python",
   "nbconvert_exporter": "python",
   "pygments_lexer": "ipython3",
   "version": "3.12.11"
  }
 },
 "nbformat": 4,
 "nbformat_minor": 5
}
