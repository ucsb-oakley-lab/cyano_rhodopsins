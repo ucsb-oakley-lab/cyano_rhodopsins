{
 "cells": [
  {
   "cell_type": "markdown",
   "id": "8cd65d48",
   "metadata": {},
   "source": [
    "### Step 1: Retrieve homologs of Gloeobacter rhodopsin (GR)\n",
    "\n",
    "To identify homologs of **Gloeobacter rhodopsin (GR)**, I ran a BLASTp search against the UniRef90 database using the  \n",
    "[`scripts/blast_uniref.py`](../scripts/blast_uniref.py) helper script.\n",
    "\n",
    "- Query: `data/GR.fasta` (accession BAC88139.1)\n",
    "- Database: UniRef90\n",
    "- Program: BLASTp\n",
    "- Date run: 2025-08-22\n",
    "- Top hits retained: 150\n",
    "- Output: `data/BAC88139.1_top150_uniref90.fasta`\n",
    "\n",
    "This was executed once on 2025-08-22 to generate results for downstream analysis.  \n",
    "To avoid hitting EBI servers repeatedly, the script call is documented below but not re-executed."
   ]
  },
  {
   "cell_type": "code",
   "execution_count": 15,
   "id": "c3de219e",
   "metadata": {},
   "outputs": [],
   "source": [
    "import sys, os\n",
    "from Bio import SeqIO\n",
    "\n",
    "# Add scripts/ to path so we can import utils\n",
    "sys.path.append(os.path.abspath(os.path.join(\"..\", \"scripts\")))\n",
    "from utils import get_path\n"
   ]
  },
  {
   "cell_type": "code",
   "execution_count": 16,
   "id": "06060b4b",
   "metadata": {},
   "outputs": [],
   "source": [
    "# Command used to generate results on 2025-08-22:\n",
    "# (not executed here to avoid re-running BLAST queries against EBI servers)\n",
    "# !python ../scripts/blast_uniref.py ../data/GR.fasta oakley@ucsb.edu --max_hits 150 --out ../data/BAC88139.1_top150_uniref90.fasta --log ../logs/blast_runs.log\n"
   ]
  },
  {
   "cell_type": "code",
   "execution_count": 25,
   "id": "970de2bb",
   "metadata": {},
   "outputs": [
    {
     "name": "stdout",
     "output_type": "stream",
     "text": [
      "Loading: /home/likewise-open/ADS/oakley/labdata/users/Oakley/GitHub/cyano_rhodopsins/data/BAC88139.1_top150_uniref90.fasta\n",
      "Loaded 144 sequences\n",
      "UniRef90_Q7NP59\n",
      "UniRef90_A0A969T0G4\n",
      "UniRef90_A0A2W7ARY7\n",
      "UniRef90_A0A969FEC7\n",
      "UniRef90_A0A925M2S9\n"
     ]
    }
   ],
   "source": [
    "# Load the saved BLAST results\n",
    "fasta_file = get_path(\"data\", \"BAC88139.1_top150_uniref90.fasta\")\n",
    "print(f\"Loading: {fasta_file}\")\n",
    "\n",
    "records = list(SeqIO.parse(fasta_file, \"fasta\"))\n",
    "print(f\"Loaded {len(records)} sequences\")\n",
    "\n",
    "# Preview a few IDs\n",
    "for record in records[:5]:\n",
    "    print(record.id)\n"
   ]
  }
 ],
 "metadata": {
  "kernelspec": {
   "display_name": "phylo",
   "language": "python",
   "name": "python3"
  },
  "language_info": {
   "codemirror_mode": {
    "name": "ipython",
    "version": 3
   },
   "file_extension": ".py",
   "mimetype": "text/x-python",
   "name": "python",
   "nbconvert_exporter": "python",
   "pygments_lexer": "ipython3",
   "version": "3.12.11"
  }
 },
 "nbformat": 4,
 "nbformat_minor": 5
}
