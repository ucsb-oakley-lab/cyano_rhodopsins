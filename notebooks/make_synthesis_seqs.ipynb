{
 "cells": [
  {
   "cell_type": "markdown",
   "id": "8cd65d48",
   "metadata": {},
   "source": [
    "### Step 1: Retrieve homologs of Gloeobacter rhodopsin (GR)\n",
    "\n",
    "To identify homologs of **Gloeobacter rhodopsin (GR)**, I ran a BLASTp search against the UniRef90 database using the  \n",
    "[`scripts/blast_uniref.py`](../scripts/blast_uniref.py) helper script.\n",
    "\n",
    "- Query: `data/GR.fasta` (accession BAC88139.1)\n",
    "- Database: UniRef90\n",
    "- Program: BLASTp\n",
    "- Date run: 2025-08-22\n",
    "- Top hits retained: 150\n",
    "- Output: `data/BAC88139.1_top150_uniref90.fasta`\n",
    "\n",
    "This was executed once on 2025-08-22 to generate results for downstream analysis.  \n",
    "To avoid hitting EBI servers repeatedly, the script call is documented below but not re-executed.\n",
    "\n",
    "Later - removed 3 sequences from the file that were missing the first transmembrane domain (UPI0035935AE6, AOA2P8WHZ5, UPI001C63F925) because they're likely incomplete genes and wouldn't form a functional protein. "
   ]
  },
  {
   "cell_type": "code",
   "execution_count": 12,
   "id": "c3de219e",
   "metadata": {},
   "outputs": [],
   "source": [
    "import sys, os\n",
    "from Bio import SeqIO\n",
    "\n",
    "# Add scripts/ to path so we can import utils\n",
    "sys.path.append(os.path.abspath(os.path.join(\"..\", \"scripts\")))\n",
    "from utils import get_path\n"
   ]
  },
  {
   "cell_type": "code",
   "execution_count": 13,
   "id": "06060b4b",
   "metadata": {},
   "outputs": [],
   "source": [
    "# Command used to generate results on 2025-08-22:\n",
    "# (not executed here to avoid re-running BLAST queries against EBI servers)\n",
    "# !python ../scripts/blast_uniref.py ../data/GR.fasta oakley@ucsb.edu --max_hits 150 --out ../data/BAC88139.1_top150_uniref90.fasta --log ../logs/blast_runs.log\n"
   ]
  },
  {
   "cell_type": "code",
   "execution_count": 14,
   "id": "970de2bb",
   "metadata": {},
   "outputs": [
    {
     "name": "stdout",
     "output_type": "stream",
     "text": [
      "Loading: /home/likewise-open/ADS/oakley/labdata/users/Oakley/Github/cyano_rhodopsins/data/BAC88139.1_top150_uniref90.fasta\n",
      "Loaded 144 sequences\n",
      "UniRef90_Q7NP59\n",
      "UniRef90_A0A969T0G4\n",
      "UniRef90_A0A2W7ARY7\n",
      "UniRef90_A0A969FEC7\n",
      "UniRef90_A0A925M2S9\n"
     ]
    }
   ],
   "source": [
    "# Load the saved BLAST results\n",
    "fasta_file = get_path(\"data\", \"BAC88139.1_top150_uniref90.fasta\")\n",
    "print(f\"Loading: {fasta_file}\")\n",
    "\n",
    "records = list(SeqIO.parse(fasta_file, \"fasta\"))\n",
    "print(f\"Loaded {len(records)} sequences\")\n",
    "\n",
    "# Preview a few IDs\n",
    "for record in records[:5]:\n",
    "    print(record.id)\n"
   ]
  },
  {
   "cell_type": "code",
   "execution_count": null,
   "id": "af4108d5",
   "metadata": {},
   "outputs": [
    {
     "name": "stdout",
     "output_type": "stream",
     "text": [
      "Reformatted 144 headers → ../data/BAC88139.1_top150_uniref90.rename.fasta\n",
      "[cleaning] dropped_meta_lines=1, salvaged_seq_fragments=0, filtered_chars=0\n"
     ]
    }
   ],
   "source": [
    "# Rename the sequences with a common prefix for ordering\n",
    "\n",
    "!python ../scripts/rename_fasta_headers.py \\\n",
    "    ../data/BAC88139.1_top150_uniref90.fasta \\\n",
    "    ../data/BAC88139.1_top150_uniref90.rename.fasta \\\n",
    "    --prefix CYANO150 \n"
   ]
  },
  {
   "cell_type": "markdown",
   "id": "19c632f6",
   "metadata": {},
   "source": [
    "## Step 2: Cull similar sequences (target is 90)\n",
    "\n",
    "To reduce redundancy, I removed highly similar sequences based on pairwise similarity\n",
    "(using Biopython’s `PairwiseAligner`, global mode). I keep a per-sequence\n",
    "“max similarity to any other” summary in `logs/` for provenance.\n",
    "\n",
    "Script: [`scripts/cull_similar_seqs.py`](../scripts/cull_similar_seqs.py)  \n",
    "Input: `data/BAC88139.1_top150_uniref90.rename.fasta`  \n",
    "Outputs (tagged by `RUN_ID`):  \n",
    "- `data/BAC88139.1_top150_uniref90.rename.culled_{RUN_ID}.fasta`  \n",
    "- `data/BAC88139.1_top150_uniref90.rename.discarded_{RUN_ID}.fasta`  \n",
    "- `logs/GR_max_similarity_{RUN_ID}.csv`\n"
   ]
  },
  {
   "cell_type": "code",
   "execution_count": 27,
   "id": "ef55bd26",
   "metadata": {},
   "outputs": [
    {
     "data": {
      "text/plain": [
       "('/home/likewise-open/ADS/oakley/labdata/users/Oakley/Github/cyano_rhodopsins/data/BAC88139.1_top150_uniref90.rename.fasta',\n",
       " '/home/likewise-open/ADS/oakley/labdata/users/Oakley/Github/cyano_rhodopsins/data/BAC88139.1_top150_uniref90.rename.culled_20250826.fasta',\n",
       " '/home/likewise-open/ADS/oakley/labdata/users/Oakley/Github/cyano_rhodopsins/data/BAC88139.1_top150_uniref90.rename.discarded_20250826.fasta',\n",
       " '/home/likewise-open/ADS/oakley/labdata/users/Oakley/Github/cyano_rhodopsins/logs/GR_max_similarity_20250826.csv')"
      ]
     },
     "execution_count": 27,
     "metadata": {},
     "output_type": "execute_result"
    }
   ],
   "source": [
    "from datetime import datetime\n",
    "import sys, os\n",
    "\n",
    "# project-root helper\n",
    "sys.path.append(os.path.abspath(os.path.join(\"..\", \"scripts\")))\n",
    "from utils import get_path\n",
    "\n",
    "# Pick ONE run id for this notebook run\n",
    "RUN_ID = datetime.now().strftime(\"%Y%m%d\")\n",
    "# If you want exact reproducibility on re-runs, set RUN_ID manually, e.g.:\n",
    "# RUN_ID = \"20250826\"\n",
    "\n",
    "in_fa       = get_path(\"data\", \"BAC88139.1_top150_uniref90.rename.fasta\")\n",
    "culled_fa   = get_path(\"data\", f\"BAC88139.1_top150_uniref90.rename.culled_{RUN_ID}.fasta\")\n",
    "discarded_fa= get_path(\"data\", f\"BAC88139.1_top150_uniref90.rename.discarded_{RUN_ID}.fasta\")\n",
    "summary_csv = get_path(\"logs\", f\"GR_max_similarity_{RUN_ID}.csv\")\n",
    "\n",
    "in_fa, culled_fa, discarded_fa, summary_csv\n"
   ]
  },
  {
   "cell_type": "code",
   "execution_count": null,
   "id": "6eecc8aa",
   "metadata": {},
   "outputs": [
    {
     "name": "stdout",
     "output_type": "stream",
     "text": [
      "Loaded 144 sequences from /home/likewise-open/ADS/oakley/labdata/users/Oakley/Github/cyano_rhodopsins/data/BAC88139.1_top150_uniref90.rename.fasta\n",
      "Progress: 0/144 sequences processed...\n",
      "Progress: 14/144 sequences processed...\n",
      "Progress: 28/144 sequences processed...\n",
      "Progress: 42/144 sequences processed...\n",
      "Progress: 56/144 sequences processed...\n",
      "Progress: 70/144 sequences processed...\n",
      "Progress: 84/144 sequences processed...\n",
      "Progress: 98/144 sequences processed...\n",
      "Progress: 112/144 sequences processed...\n",
      "Progress: 126/144 sequences processed...\n",
      "Progress: 140/144 sequences processed...\n",
      "Retained 90 sequences → /home/likewise-open/ADS/oakley/labdata/users/Oakley/Github/cyano_rhodopsins/data/BAC88139.1_top150_uniref90.rename.culled_20250826.fasta\n",
      "Discarded 54 sequences → /home/likewise-open/ADS/oakley/labdata/users/Oakley/Github/cyano_rhodopsins/data/BAC88139.1_top150_uniref90.rename.discarded_20250826.fasta\n"
     ]
    }
   ],
   "source": [
    "# Cull similar sequences to reduce redundancy. Target is 90 total sequences.\n",
    "\n",
    "!python ../scripts/cull_similar_seqs.py \\\n",
    "  {in_fa} \\\n",
    "  {culled_fa} \\\n",
    "  --discarded-fasta {discarded_fa} \\\n",
    "  --discard 54 \\\n",
    "  --method align --align-mode global --match 1 --mismatch 0 --gap-open -1 --gap-extend -0.5 \\\n",
    "  --summary-csv {summary_csv} \n"
   ]
  },
  {
   "cell_type": "markdown",
   "id": "0a6ded6f",
   "metadata": {},
   "source": [
    "### Step Check sequences with phylogeny (cyanobacteria only)\n",
    "\n",
    "Align with mafft\n",
    "Quick and dirty iq-tree run, just as a sanity check"
   ]
  },
  {
   "cell_type": "code",
   "execution_count": 29,
   "id": "b00310e1",
   "metadata": {},
   "outputs": [
    {
     "name": "stdout",
     "output_type": "stream",
     "text": [
      "Using input FASTA: BAC88139.1_top150_uniref90.rename.culled_20250826.fasta\n",
      "Aligned output  : BAC88139.1_top150_uniref90.rename.culled_20250826_ALN.faa\n",
      "IQ-TREE prefix  : BAC88139.1_top150_uniref90.rename.culled_20250826_ML_2025-08-26\n"
     ]
    },
    {
     "data": {
      "text/plain": [
       "(PosixPath('../results/align/BAC88139.1_top150_uniref90.rename.culled_20250826_ALN.faa'),\n",
       " PosixPath('../results/trees/BAC88139.1_top150_uniref90.rename.culled_20250826_ML_2025-08-26'))"
      ]
     },
     "execution_count": 29,
     "metadata": {},
     "output_type": "execute_result"
    }
   ],
   "source": [
    "from pathlib import Path\n",
    "from datetime import datetime\n",
    "\n",
    "# Folders\n",
    "DATA = Path(\"../data\")\n",
    "ALIGN_DIR = Path(\"../results/align\"); ALIGN_DIR.mkdir(parents=True, exist_ok=True)\n",
    "TREE_DIR  = Path(\"../results/trees\");  TREE_DIR.mkdir(parents=True, exist_ok=True)\n",
    "\n",
    "# Auto RUNID (e.g., \"2025-08-26\")\n",
    "RUNID = datetime.now().strftime(\"%Y-%m-%d\")\n",
    "\n",
    "# Find the newest culled FASTA\n",
    "patterns = [\n",
    "    \"*_uniref90.rename.culled_*.fasta\",  # most specific to your naming\n",
    "    \"*rename.culled_*.fasta\",            # fallback\n",
    "    \"*culled*.fasta\",                    # last-resort fallback\n",
    "]\n",
    "candidates = []\n",
    "for pat in patterns:\n",
    "    candidates += list(DATA.glob(pat))\n",
    "\n",
    "candidates = sorted(\n",
    "    {p.resolve() for p in candidates if p.exists()},\n",
    "    key=lambda p: p.stat().st_mtime,\n",
    "    reverse=True,\n",
    ")\n",
    "\n",
    "assert candidates, f\"No culled FASTA found in {DATA}. Checked patterns: {patterns}\"\n",
    "\n",
    "IN_FASTA = candidates[0]\n",
    "base = IN_FASTA.stem  # e.g., \"BAC88139.1_top150_uniref90.rename.culled_20250826\"\n",
    "\n",
    "# Aligned file with your _ALN naming convention\n",
    "ALN_FASTA = ALIGN_DIR / f\"{base}_ALN.faa\"\n",
    "\n",
    "# IQ-TREE output prefix (all its files get this stem)\n",
    "IQ_PREFIX = TREE_DIR / f\"{base}_ML_{RUNID}\"\n",
    "\n",
    "print(\"Using input FASTA:\", IN_FASTA.name)\n",
    "print(\"Aligned output  :\", ALN_FASTA.name)\n",
    "print(\"IQ-TREE prefix  :\", IQ_PREFIX.name)\n",
    "\n",
    "ALN_FASTA, IQ_PREFIX\n"
   ]
  },
  {
   "cell_type": "code",
   "execution_count": 30,
   "id": "eeeb2196",
   "metadata": {},
   "outputs": [
    {
     "name": "stdout",
     "output_type": "stream",
     "text": [
      "OS = linux\n",
      "The number of physical cores =  8\n",
      "outputhat23=16\n",
      "treein = 0\n",
      "compacttree = 0\n",
      "stacksize: 8192 kb\n",
      "rescale = 1\n",
      "All-to-all alignment.\n",
      "tbfast-pair (aa) Version 7.526\n",
      "alg=L, model=BLOSUM62, 2.00, -0.10, +0.10, noshift, amax=0.0\n",
      "8 thread(s)\n",
      "\n",
      "outputhat23=16\n",
      "Loading 'hat3.seed' ... \n",
      "done.\n",
      "Writing hat3 for iterative refinement\n",
      "rescale = 1\n",
      "Gap Penalty = -1.53, +0.00, +0.00\n",
      "tbutree = 1, compacttree = 0\n",
      "Constructing a UPGMA tree ... \n",
      "   80 / 90\n",
      "done.\n",
      "\n",
      "Progressive alignment ... \n",
      "STEP    87 /89 (thread    4) \n",
      "Reallocating (by thread 0) ..done. *alloclen = 1803\n",
      "STEP    89 /89 (thread    6) \n",
      "done.\n",
      "tbfast (aa) Version 7.526\n",
      "alg=A, model=BLOSUM62, 1.53, -0.00, -0.00, noshift, amax=0.0\n",
      "8 thread(s)\n",
      "\n",
      "minimumweight = 0.000010\n",
      "autosubalignment = 0.000000\n",
      "nthread = 8\n",
      "randomseed = 0\n",
      "blosum 62 / kimura 200\n",
      "poffset = 0\n",
      "niter = 16\n",
      "sueff_global = 0.100000\n",
      "nadd = 16\n",
      "Loading 'hat3' ... done.\n",
      "rescale = 1\n",
      "\n",
      "   80 / 90\n",
      "Segment   1/  1    1- 471\n",
      "005-0176-0 (thread    8) identical     001-0052-1 (thread    1) identical     001-0114-0 (thread    4) identical     001-0154-1 (thread    4) identical     002-0041-0 (thread    6) identical     002-0124-1 (thread    3) identical     003-0009-0 (thread    1) identical     003-0151-1 (thread    2) identical     004-0096-0 (thread    7) identical     005-0171-0 (thread    5) identical     \n",
      "Converged.\n",
      "\n",
      "Converged2.\n",
      "done\n",
      "dvtditr (aa) Version 7.526\n",
      "alg=A, model=BLOSUM62, 1.53, -0.00, -0.00, noshift, amax=0.0\n",
      "8 thread(s)\n",
      "\n",
      "\n",
      "Strategy:\n",
      " L-INS-i (Probably most accurate, very slow)\n",
      " Iterative refinement method (<16) with LOCAL pairwise alignment information\n",
      "\n",
      "If unsure which option to use, try 'mafft --auto input > output'.\n",
      "For more information, see 'mafft --help', 'mafft --man' and the mafft page.\n",
      "\n",
      "The default gap scoring scheme has been changed in version 7.110 (2013 Oct).\n",
      "It tends to insert more gaps into gap-rich regions than previous versions.\n",
      "To disable this change, add the --leavegappyregion option.\n",
      "\n",
      "Aligned -> ../results/align/BAC88139.1_top150_uniref90.rename.culled_20250826_ALN.faa\n"
     ]
    }
   ],
   "source": [
    "# MAFFT auto strategy; uses all cores available (-1). \n",
    "# MAFFT preserves headers by default; just ensure your IDs have no spaces if you ever switch tools.\n",
    "!mafft --auto --thread -1 \"{IN_FASTA}\" > \"{ALN_FASTA}\"\n",
    "print(\"Aligned ->\", ALN_FASTA)\n"
   ]
  },
  {
   "cell_type": "code",
   "execution_count": null,
   "id": "191ee211",
   "metadata": {},
   "outputs": [],
   "source": [
    "# Build a maximum likelihood tree with IQ-TREE2, using the LG+F+R4 model. Just as sanity check. \n",
    "# This just takes about 3 minutes on 90 sequences.\n",
    "!iqtree2 -s \"{ALN_FASTA}\" -m LG+F+R4 -nt AUTO -keep-ident -pre \"{IQ_PREFIX}\" -quiet\n"
   ]
  },
  {
   "cell_type": "code",
   "execution_count": 1,
   "id": "e544572b",
   "metadata": {},
   "outputs": [
    {
     "ename": "NameError",
     "evalue": "name 'IQ_PREFIX' is not defined",
     "output_type": "error",
     "traceback": [
      "\u001b[31m---------------------------------------------------------------------------\u001b[39m",
      "\u001b[31mNameError\u001b[39m                                 Traceback (most recent call last)",
      "\u001b[36mCell\u001b[39m\u001b[36m \u001b[39m\u001b[32mIn[1]\u001b[39m\u001b[32m, line 6\u001b[39m\n\u001b[32m      3\u001b[39m \u001b[38;5;28;01mimport\u001b[39;00m\u001b[38;5;250m \u001b[39m\u001b[34;01mmatplotlib\u001b[39;00m\u001b[34;01m.\u001b[39;00m\u001b[34;01mpyplot\u001b[39;00m\u001b[38;5;250m \u001b[39m\u001b[38;5;28;01mas\u001b[39;00m\u001b[38;5;250m \u001b[39m\u001b[34;01mplt\u001b[39;00m\n\u001b[32m      5\u001b[39m \u001b[38;5;66;03m# IQ-TREE output (from your earlier cell)\u001b[39;00m\n\u001b[32m----> \u001b[39m\u001b[32m6\u001b[39m TREE_FILE = Path(\u001b[33mf\u001b[39m\u001b[33m\"\u001b[39m\u001b[38;5;132;01m{\u001b[39;00m\u001b[43mIQ_PREFIX\u001b[49m\u001b[38;5;132;01m}\u001b[39;00m\u001b[33m.treefile\u001b[39m\u001b[33m\"\u001b[39m)\n\u001b[32m      7\u001b[39m \u001b[38;5;28;01massert\u001b[39;00m TREE_FILE.exists(), \u001b[33mf\u001b[39m\u001b[33m\"\u001b[39m\u001b[33mMissing tree file: \u001b[39m\u001b[38;5;132;01m{\u001b[39;00mTREE_FILE\u001b[38;5;132;01m}\u001b[39;00m\u001b[33m\"\u001b[39m\n\u001b[32m      9\u001b[39m \u001b[38;5;66;03m# Read & midpoint-root\u001b[39;00m\n",
      "\u001b[31mNameError\u001b[39m: name 'IQ_PREFIX' is not defined"
     ]
    }
   ],
   "source": [
    "from pathlib import Path\n",
    "from Bio import Phylo\n",
    "import matplotlib.pyplot as plt\n",
    "\n",
    "# IQ-TREE output (from your earlier cell)\n",
    "TREE_FILE = Path(f\"{IQ_PREFIX}.treefile\")\n",
    "assert TREE_FILE.exists(), f\"Missing tree file: {TREE_FILE}\"\n",
    "\n",
    "# Read & midpoint-root\n",
    "tree = Phylo.read(TREE_FILE, \"newick\")\n",
    "tree.root_at_midpoint()\n",
    "\n",
    "# Optional: save the rooted Newick for reproducibility\n",
    "mid_nwk = Path(f\"{IQ_PREFIX}.midpoint.nwk\")\n",
    "Phylo.write(tree, str(mid_nwk), \"newick\")\n",
    "\n",
    "# Plot (auto-scale height by number of tips)\n",
    "n_tips = len(tree.get_terminals())\n",
    "fig_h = max(8, min(40, n_tips * 0.18))  # inches\n",
    "plt.rcParams.update({\"font.size\": 6})\n",
    "\n",
    "fig = plt.figure(figsize=(12, fig_h))\n",
    "ax = plt.subplot(111)\n",
    "Phylo.draw(tree, axes=ax, do_show=False)\n",
    "plt.tight_layout()\n",
    "\n",
    "# Save images\n",
    "out_png = Path(f\"{IQ_PREFIX}.png\")\n",
    "out_pdf = Path(f\"{IQ_PREFIX}.pdf\")\n",
    "fig.savefig(out_png, dpi=300)\n",
    "fig.savefig(out_pdf)\n",
    "print(f\"Saved tree to:\\n  {mid_nwk}\\n  {out_png}\\n  {out_pdf}\")\n",
    "\n",
    "plt.show()\n"
   ]
  }
 ],
 "metadata": {
  "kernelspec": {
   "display_name": "phylo",
   "language": "python",
   "name": "python3"
  },
  "language_info": {
   "codemirror_mode": {
    "name": "ipython",
    "version": 3
   },
   "file_extension": ".py",
   "mimetype": "text/x-python",
   "name": "python",
   "nbconvert_exporter": "python",
   "pygments_lexer": "ipython3",
   "version": "3.12.11"
  }
 },
 "nbformat": 4,
 "nbformat_minor": 5
}
