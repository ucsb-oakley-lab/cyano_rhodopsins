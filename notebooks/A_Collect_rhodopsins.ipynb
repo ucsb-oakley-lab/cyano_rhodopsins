{
 "cells": [
  {
   "cell_type": "code",
   "execution_count": 1,
   "id": "75aa4d7e",
   "metadata": {},
   "outputs": [],
   "source": [
    "from pathlib import Path\n",
    "from datetime import datetime\n",
    "\n",
    "#Run ID to be used for naming output files\n",
    "RUN_ID = datetime.now().strftime(\"%Y%m%d\")\n",
    "RUNID_DASH = datetime.now().strftime(\"%Y-%m-%d\")\n",
    "\n",
    "RUN_ID = \"20250827\"\n",
    "RUNID_DASH = \"2025-08-27\"\n",
    "\n",
    "\n",
    "#Define paths for current project\n",
    "# --- Centralized paths ---\n",
    "ROOT = Path(\"..\")\n",
    "DATA = ROOT / \"data\"\n",
    "LOGS = ROOT / \"logs\"\n",
    "SCRIPTS = ROOT / \"scripts\"\n",
    "RESULTS = ROOT / \"results\"\n",
    "ALIGN_DIR = RESULTS / \"align\"\n",
    "TREE_DIR = RESULTS / \"trees\"\n",
    "FIGURES = RESULTS / \"figures\""
   ]
  }
 ],
 "metadata": {
  "kernelspec": {
   "display_name": "phylo",
   "language": "python",
   "name": "python3"
  },
  "language_info": {
   "codemirror_mode": {
    "name": "ipython",
    "version": 3
   },
   "file_extension": ".py",
   "mimetype": "text/x-python",
   "name": "python",
   "nbconvert_exporter": "python",
   "pygments_lexer": "ipython3",
   "version": "3.12.11"
  }
 },
 "nbformat": 4,
 "nbformat_minor": 5
}
