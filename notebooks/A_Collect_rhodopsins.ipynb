{
 "cells": [
  {
   "cell_type": "code",
   "execution_count": 1,
   "id": "75aa4d7e",
   "metadata": {},
   "outputs": [],
   "source": [
    "from pathlib import Path\n",
    "from datetime import datetime\n",
    "\n",
    "#Define paths for current project\n",
    "#Starting in notebooks directory\n",
    "# --- Centralized paths ---\n",
    "ROOT = Path(\"..\")\n",
    "DATA = ROOT / \"data\"\n",
    "LOGS = ROOT / \"logs\"\n",
    "SCRIPTS = ROOT / \"scripts\"\n",
    "RESULTS = ROOT / \"results\"\n",
    "ALIGN_DIR = RESULTS / \"align\"\n",
    "TREE_DIR = RESULTS / \"trees\"\n",
    "FIGURES = RESULTS / \"figures\""
   ]
  },
  {
   "cell_type": "code",
   "execution_count": 2,
   "id": "33ecb01e",
   "metadata": {},
   "outputs": [
    {
     "name": "stdout",
     "output_type": "stream",
     "text": [
      "Did not find SRR6869043_N0001541_6\n",
      "Did not find SRR6869043_N0010062_2\n",
      "Did not find SRR6869040_N0001326_5\n",
      "Did not find SRR6869040_N0001714_12\n",
      "Sequences written to ../data/hasegawa24/rhodopsins_from_accessions.fasta\n"
     ]
    }
   ],
   "source": [
    "import pandas as pd\n",
    "from pathlib import Path\n",
    "from Bio import Entrez\n",
    "\n",
    "Entrez.email = \"oakley@ucsb.edu\"\n",
    "\n",
    "csv_path = DATA / \"hasegawa24\" / \"Supporting_Data_3.csv\"\n",
    "df = pd.read_csv(csv_path)\n",
    "accession_col = \"rhodopsin_accessions\"  # Adjust if needed\n",
    "\n",
    "output_fasta = DATA / \"hasegawa24\" / \"rhodopsins_from_accessions.fasta\"\n",
    "\n",
    "def parse_accession(entry):\n",
    "    entry = entry.strip().strip('\"').strip(\"'\")\n",
    "    # Example: \"BAC88139.1 (XLR)\"\n",
    "    if \"(\" in entry and \")\" in entry:\n",
    "        acc = entry.split(\"(\")[0].strip()\n",
    "        clade = entry.split(\"(\")[1].split(\")\")[0].strip()\n",
    "        return acc, clade\n",
    "    else:\n",
    "        return entry, \"\"\n",
    "\n",
    "# Flatten and parse accessions\n",
    "all_entries = (\n",
    "    df[accession_col]\n",
    "    .dropna()\n",
    "    .apply(lambda x: [a.strip().strip('\"').strip(\"'\") for a in str(x).split(\",\")])\n",
    "    .explode()\n",
    "    .dropna()\n",
    ")\n",
    "\n",
    "parsed = [parse_accession(e) for e in all_entries if e]\n",
    "\n",
    "with open(output_fasta, \"w\") as out_handle:\n",
    "    for acc, clade in parsed:\n",
    "        try:\n",
    "            handle = Entrez.efetch(db=\"protein\", id=acc, rettype=\"fasta\", retmode=\"text\")\n",
    "            seq = handle.read()\n",
    "            if seq.strip() and seq.startswith(\">\"):\n",
    "                # Add clade to FASTA header if present\n",
    "                lines = seq.splitlines()\n",
    "                if clade and lines:\n",
    "                    lines[0] = f\">{clade} {lines[0][1:]}\"\n",
    "                    seq = \"\\n\".join(lines)\n",
    "                out_handle.write(seq + \"\\n\")\n",
    "            else:\n",
    "                print(f\"Did not find {acc}\")\n",
    "        except Exception:\n",
    "            print(f\"Did not find {acc}\")\n",
    "\n",
    "print(f\"Sequences written to {output_fasta}\")"
   ]
  },
  {
   "cell_type": "code",
   "execution_count": null,
   "id": "643841b1",
   "metadata": {},
   "outputs": [],
   "source": []
  }
 ],
 "metadata": {
  "kernelspec": {
   "display_name": "phylo",
   "language": "python",
   "name": "python3"
  },
  "language_info": {
   "codemirror_mode": {
    "name": "ipython",
    "version": 3
   },
   "file_extension": ".py",
   "mimetype": "text/x-python",
   "name": "python",
   "nbconvert_exporter": "python",
   "pygments_lexer": "ipython3",
   "version": "3.12.11"
  }
 },
 "nbformat": 4,
 "nbformat_minor": 5
}
